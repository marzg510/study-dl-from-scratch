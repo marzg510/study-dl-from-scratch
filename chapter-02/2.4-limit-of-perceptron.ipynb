{
 "cells": [
  {
   "cell_type": "markdown",
   "metadata": {},
   "source": [
    "# ゼロから作るDeep Learning"
   ]
  },
  {
   "cell_type": "markdown",
   "metadata": {},
   "source": [
    "## 2章 パーセプトロン"
   ]
  },
  {
   "cell_type": "markdown",
   "metadata": {},
   "source": [
    "### 2.4 パーセプトロンの限界"
   ]
  },
  {
   "cell_type": "markdown",
   "metadata": {},
   "source": [
    "#### 2.4.1 XORゲート"
   ]
  },
  {
   "cell_type": "markdown",
   "metadata": {},
   "source": [
    "- XORゲートの真理値表\n",
    "\n",
    "| x1 | x2 | y |\n",
    "|----|----|---|\n",
    "| 0 | 0 | 0 |\n",
    "| 1 | 0 | 1 |\n",
    "| 0 | 1 | 1 |\n",
    "| 1 | 1 | 0 |\n",
    "\n",
    "\n"
   ]
  },
  {
   "cell_type": "markdown",
   "metadata": {},
   "source": [
    "- ORゲートのパーセプトロン\n",
    "$$\n",
    "y=\\left\\{\n",
    "\\begin{array}{ll}\n",
    "0 & (-0.5 + x_1 + x_2 \\leq 0) \\\\\n",
    "1 & (-0.5 + x_1 + x_2 > 0) \\\\\n",
    "\\end{array} \\right.\n",
    "$$"
   ]
  },
  {
   "cell_type": "code",
   "execution_count": 41,
   "metadata": {},
   "outputs": [
    {
     "data": {
      "image/png": "[encoded data removed]",
      "text/plain": [
       "<Figure size 216x216 with 1 Axes>"
      ]
     },
     "metadata": {
      "needs_background": "light"
     },
     "output_type": "display_data"
    }
   ],
   "source": [
    "# ORゲートパーセプトロンの可視化\n",
    "\n",
    "import matplotlib.pyplot as plt\n",
    "import numpy as np\n",
    "\n",
    "\n",
    "x = np.arange(-3,3,0.5)\n",
    "y = 0.5 - x\n",
    "\n",
    "plt.figure(figsize=(3,3))\n",
    "\n",
    "plt.scatter(0, 0,marker='o')\n",
    "plt.scatter([0, 1, 1], [1, 0, 1], marker='^')\n",
    "plt.plot(x, y)\n",
    "\n",
    "plt.xlim(-1, 2)\n",
    "plt.ylim(-1, 2)\n",
    "plt.xticks([0,1])\n",
    "plt.yticks([0,1])\n",
    "plt.xlabel(\"x1\")\n",
    "plt.ylabel(\"x2\")\n",
    "plt.grid()\n",
    "plt.show()\n",
    "\n",
    "\n"
   ]
  },
  {
   "cell_type": "markdown",
   "metadata": {},
   "source": [
    "### 2.5 多層パーセプトロン"
   ]
  },
  {
   "cell_type": "code",
   "execution_count": 49,
   "metadata": {},
   "outputs": [
    {
     "data": {
      "image/svg+xml": "<?xml version=\"1.0\" encoding=\"UTF-8\" standalone=\"no\"?>\n<!DOCTYPE svg PUBLIC \"-//W3C//DTD SVG 1.1//EN\"\n \"http://www.w3.org/Graphics/SVG/1.1/DTD/svg11.dtd\">\n<!-- Generated by graphviz version 2.43.0 (0)\n -->\n<!-- Title: %3 Pages: 1 -->\n<svg width=\"136pt\" height=\"277pt\"\n viewBox=\"0.00 0.00 136.00 277.00\" xmlns=\"http://www.w3.org/2000/svg\" xmlns:xlink=\"http://www.w3.org/1999/xlink\">\n<g id=\"graph0\" class=\"graph\" transform=\"scale(1 1) rotate(0) translate(4 273)\">\n<title>%3</title>\n<polygon fill=\"white\" stroke=\"transparent\" points=\"-4,4 -4,-273 132,-273 132,4 -4,4\"/>\n<!-- x1 -->\n<g id=\"node1\" class=\"node\">\n<title>x1</title>\n<text text-anchor=\"middle\" x=\"28\" y=\"-247.3\" font-family=\"Times,serif\" font-size=\"14.00\">x1</text>\n</g>\n<!-- NAND -->\n<g id=\"node4\" class=\"node\">\n<title>NAND</title>\n<polygon fill=\"none\" stroke=\"black\" points=\"44,-190 0,-190 0,-166 44,-166 56,-178 44,-190\"/>\n<text text-anchor=\"middle\" x=\"28\" y=\"-174.3\" font-family=\"Times,serif\" font-size=\"14.00\">NAND</text>\n</g>\n<!-- x1&#45;&gt;NAND -->\n<g id=\"edge1\" class=\"edge\">\n<title>x1&#45;&gt;NAND</title>\n<path fill=\"none\" stroke=\"black\" d=\"M28,-232.81C28,-224.79 28,-215.05 28,-206.07\"/>\n<polygon fill=\"black\" stroke=\"black\" points=\"31.5,-206.03 28,-196.03 24.5,-206.03 31.5,-206.03\"/>\n</g>\n<!-- OR -->\n<g id=\"node6\" class=\"node\">\n<title>OR</title>\n<polygon fill=\"none\" stroke=\"black\" points=\"116,-190 74,-190 74,-166 116,-166 128,-178 116,-190\"/>\n<text text-anchor=\"middle\" x=\"101\" y=\"-174.3\" font-family=\"Times,serif\" font-size=\"14.00\">OR</text>\n</g>\n<!-- x1&#45;&gt;OR -->\n<g id=\"edge2\" class=\"edge\">\n<title>x1&#45;&gt;OR</title>\n<path fill=\"none\" stroke=\"black\" d=\"M45.67,-232.81C54.82,-223.92 66.14,-212.91 76.15,-203.17\"/>\n<polygon fill=\"black\" stroke=\"black\" points=\"78.76,-205.51 83.49,-196.03 73.88,-200.49 78.76,-205.51\"/>\n</g>\n<!-- x2 -->\n<g id=\"node2\" class=\"node\">\n<title>x2</title>\n<text text-anchor=\"middle\" x=\"101\" y=\"-247.3\" font-family=\"Times,serif\" font-size=\"14.00\">x2</text>\n</g>\n<!-- x2&#45;&gt;NAND -->\n<g id=\"edge3\" class=\"edge\">\n<title>x2&#45;&gt;NAND</title>\n<path fill=\"none\" stroke=\"black\" d=\"M83.33,-232.81C74.18,-223.92 62.86,-212.91 52.85,-203.17\"/>\n<polygon fill=\"black\" stroke=\"black\" points=\"55.12,-200.49 45.51,-196.03 50.24,-205.51 55.12,-200.49\"/>\n</g>\n<!-- x2&#45;&gt;OR -->\n<g id=\"edge4\" class=\"edge\">\n<title>x2&#45;&gt;OR</title>\n<path fill=\"none\" stroke=\"black\" d=\"M101,-232.81C101,-224.79 101,-215.05 101,-206.07\"/>\n<polygon fill=\"black\" stroke=\"black\" points=\"104.5,-206.03 101,-196.03 97.5,-206.03 104.5,-206.03\"/>\n</g>\n<!-- y -->\n<g id=\"node3\" class=\"node\">\n<title>y</title>\n<text text-anchor=\"middle\" x=\"64\" y=\"-14.3\" font-family=\"Times,serif\" font-size=\"14.00\">y</text>\n</g>\n<!-- AND -->\n<g id=\"node5\" class=\"node\">\n<title>AND</title>\n<polygon fill=\"none\" stroke=\"black\" points=\"79,-103 37,-103 37,-79 79,-79 91,-91 79,-103\"/>\n<text text-anchor=\"middle\" x=\"64\" y=\"-87.3\" font-family=\"Times,serif\" font-size=\"14.00\">AND</text>\n</g>\n<!-- NAND&#45;&gt;AND -->\n<g id=\"edge5\" class=\"edge\">\n<title>NAND&#45;&gt;AND</title>\n<path fill=\"none\" stroke=\"black\" d=\"M35.29,-159.8C40.31,-147.93 47.09,-131.93 52.8,-118.45\"/>\n<polygon fill=\"black\" stroke=\"black\" points=\"56.05,-119.75 56.73,-109.18 49.6,-117.02 56.05,-119.75\"/>\n<text text-anchor=\"middle\" x=\"54.5\" y=\"-130.8\" font-family=\"Times,serif\" font-size=\"14.00\">s1</text>\n</g>\n<!-- AND&#45;&gt;y -->\n<g id=\"edge7\" class=\"edge\">\n<title>AND&#45;&gt;y</title>\n<path fill=\"none\" stroke=\"black\" d=\"M64,-72.81C64,-64.79 64,-55.05 64,-46.07\"/>\n<polygon fill=\"black\" stroke=\"black\" points=\"67.5,-46.03 64,-36.03 60.5,-46.03 67.5,-46.03\"/>\n</g>\n<!-- OR&#45;&gt;AND -->\n<g id=\"edge6\" class=\"edge\">\n<title>OR&#45;&gt;AND</title>\n<path fill=\"none\" stroke=\"black\" d=\"M93.51,-159.8C88.35,-147.93 81.38,-131.93 75.51,-118.45\"/>\n<polygon fill=\"black\" stroke=\"black\" points=\"78.68,-116.95 71.48,-109.18 72.26,-119.74 78.68,-116.95\"/>\n<text text-anchor=\"middle\" x=\"90.5\" y=\"-130.8\" font-family=\"Times,serif\" font-size=\"14.00\">s2</text>\n</g>\n</g>\n</svg>\n",
      "text/plain": [
       "<graphviz.graphs.Digraph at 0x7f5102edd880>"
      ]
     },
     "execution_count": 49,
     "metadata": {},
     "output_type": "execute_result"
    }
   ],
   "source": [
    "from graphviz import Digraph\n",
    "\n",
    "dg = Digraph(format='png')\n",
    "dg.attr('node', shape='cds')\n",
    "\n",
    "dg.node('x1', shape='plaintext')\n",
    "dg.node('x2', shape='plaintext')\n",
    "dg.node('y', shape='plaintext')\n",
    "dg.node('NAND')\n",
    "dg.node('AND')\n",
    "dg.node('OR')\n",
    "dg.edge('x1', 'NAND')\n",
    "dg.edge('x1', 'OR')\n",
    "dg.edge('x2', 'NAND')\n",
    "dg.edge('x2', 'OR')\n",
    "dg.edge('NAND', 'AND', 's1')\n",
    "dg.edge('OR', 'AND', 's2')\n",
    "dg.edge('AND', 'y')\n",
    "\n",
    "dg\n"
   ]
  },
  {
   "cell_type": "markdown",
   "metadata": {},
   "source": [
    "#### 2.5.2 XORゲートの実装"
   ]
  },
  {
   "cell_type": "code",
   "execution_count": 52,
   "metadata": {
    "collapsed": true
   },
   "outputs": [],
   "source": [
    "def AND(x1, x2):\n",
    "    x = np.array([x1,x2])\n",
    "    w = np.array([0.5,0.5])\n",
    "    b = -0.7\n",
    "    tmp = np.sum(w*x) + b\n",
    "    if tmp <= 0:\n",
    "        return 0\n",
    "    else:\n",
    "        return 1\n",
    "\n",
    "def NAND(x1, x2):\n",
    "    x = np.array([x1,x2])\n",
    "    w = np.array([-0.5,-0.5])\n",
    "    b = 0.7\n",
    "    tmp = np.sum(w*x) + b\n",
    "    if tmp <= 0:\n",
    "        return 0\n",
    "    else:\n",
    "        return 1\n",
    "\n",
    "def OR(x1, x2):\n",
    "    x = np.array([x1,x2])\n",
    "    w = np.array([0.5,0.5])\n",
    "    b = -0.2\n",
    "    tmp = np.sum(w*x) + b\n",
    "    if tmp <= 0:\n",
    "        return 0\n",
    "    else:\n",
    "        return 1\n",
    "\n",
    "def XOR(x1, x2):\n",
    "    s1 = NAND(x1,x2)\n",
    "    s2 = OR(x1,x2)\n",
    "    y = AND(s1,s2)\n",
    "    return y\n"
   ]
  },
  {
   "cell_type": "code",
   "execution_count": 54,
   "metadata": {},
   "outputs": [
    {
     "name": "stdout",
     "output_type": "stream",
     "text": [
      "0\n",
      "1\n",
      "1\n",
      "0\n"
     ]
    }
   ],
   "source": [
    "print(XOR(0, 0))\n",
    "print(XOR(1, 0))\n",
    "print(XOR(0, 1))\n",
    "print(XOR(1, 1))"
   ]
  },
  {
   "cell_type": "code",
   "execution_count": 95,
   "metadata": {},
   "outputs": [
    {
     "data": {
      "image/svg+xml": "<?xml version=\"1.0\" encoding=\"UTF-8\" standalone=\"no\"?>\n<!DOCTYPE svg PUBLIC \"-//W3C//DTD SVG 1.1//EN\"\n \"http://www.w3.org/Graphics/SVG/1.1/DTD/svg11.dtd\">\n<!-- Generated by graphviz version 2.43.0 (0)\n -->\n<!-- Title: %3 Pages: 1 -->\n<svg width=\"208pt\" height=\"265pt\"\n viewBox=\"0.00 0.00 207.70 265.00\" xmlns=\"http://www.w3.org/2000/svg\" xmlns:xlink=\"http://www.w3.org/1999/xlink\">\n<g id=\"graph0\" class=\"graph\" transform=\"scale(1 1) rotate(0) translate(4 261)\">\n<title>%3</title>\n<polygon fill=\"white\" stroke=\"transparent\" points=\"-4,4 -4,-261 203.7,-261 203.7,4 -4,4\"/>\n<!-- 第0層 -->\n<g id=\"node1\" class=\"node\">\n<title>第0層</title>\n<text text-anchor=\"middle\" x=\"27\" y=\"-14.3\" font-family=\"Times,serif\" font-size=\"14.00\">第0層</text>\n</g>\n<!-- x1 -->\n<g id=\"node2\" class=\"node\">\n<title>x1</title>\n<ellipse fill=\"none\" stroke=\"black\" cx=\"27\" cy=\"-130\" rx=\"19.5\" ry=\"19.5\"/>\n<text text-anchor=\"middle\" x=\"27\" y=\"-126.3\" font-family=\"Times,serif\" font-size=\"14.00\">x1</text>\n</g>\n<!-- s1 -->\n<g id=\"node5\" class=\"node\">\n<title>s1</title>\n<ellipse fill=\"none\" stroke=\"black\" cx=\"108.85\" cy=\"-129\" rx=\"18.7\" ry=\"18.7\"/>\n<text text-anchor=\"middle\" x=\"108.85\" y=\"-125.3\" font-family=\"Times,serif\" font-size=\"14.00\">s1</text>\n</g>\n<!-- x1&#45;&gt;s1 -->\n<g id=\"edge4\" class=\"edge\">\n<title>x1&#45;&gt;s1</title>\n<path fill=\"none\" stroke=\"black\" d=\"M46.52,-129.77C56.43,-129.64 68.85,-129.49 79.91,-129.35\"/>\n<polygon fill=\"black\" stroke=\"black\" points=\"80.02,-132.85 89.98,-129.22 79.94,-125.85 80.02,-132.85\"/>\n</g>\n<!-- s2 -->\n<g id=\"node6\" class=\"node\">\n<title>s2</title>\n<ellipse fill=\"none\" stroke=\"black\" cx=\"108.85\" cy=\"-73\" rx=\"18.7\" ry=\"18.7\"/>\n<text text-anchor=\"middle\" x=\"108.85\" y=\"-69.3\" font-family=\"Times,serif\" font-size=\"14.00\">s2</text>\n</g>\n<!-- x1&#45;&gt;s2 -->\n<g id=\"edge3\" class=\"edge\">\n<title>x1&#45;&gt;s2</title>\n<path fill=\"none\" stroke=\"black\" d=\"M43.4,-119.01C55.14,-110.62 71.52,-98.94 84.82,-89.44\"/>\n<polygon fill=\"black\" stroke=\"black\" points=\"86.93,-92.23 93.04,-83.57 82.87,-86.53 86.93,-92.23\"/>\n</g>\n<!-- x2 -->\n<g id=\"node3\" class=\"node\">\n<title>x2</title>\n<ellipse fill=\"none\" stroke=\"black\" cx=\"27\" cy=\"-73\" rx=\"19.5\" ry=\"19.5\"/>\n<text text-anchor=\"middle\" x=\"27\" y=\"-69.3\" font-family=\"Times,serif\" font-size=\"14.00\">x2</text>\n</g>\n<!-- x2&#45;&gt;s1 -->\n<g id=\"edge2\" class=\"edge\">\n<title>x2&#45;&gt;s1</title>\n<path fill=\"none\" stroke=\"black\" d=\"M43.4,-83.8C55.14,-92.04 71.52,-103.52 84.82,-112.85\"/>\n<polygon fill=\"black\" stroke=\"black\" points=\"82.84,-115.74 93.04,-118.61 86.86,-110.01 82.84,-115.74\"/>\n</g>\n<!-- x2&#45;&gt;s2 -->\n<g id=\"edge1\" class=\"edge\">\n<title>x2&#45;&gt;s2</title>\n<path fill=\"none\" stroke=\"black\" d=\"M46.52,-73C56.43,-73 68.85,-73 79.91,-73\"/>\n<polygon fill=\"black\" stroke=\"black\" points=\"79.98,-76.5 89.98,-73 79.98,-69.5 79.98,-76.5\"/>\n</g>\n<!-- 第1層 -->\n<g id=\"node4\" class=\"node\">\n<title>第1層</title>\n<text text-anchor=\"middle\" x=\"27\" y=\"-181.3\" font-family=\"Times,serif\" font-size=\"14.00\">第1層</text>\n</g>\n<!-- y -->\n<g id=\"node8\" class=\"node\">\n<title>y</title>\n<ellipse fill=\"none\" stroke=\"black\" cx=\"181.7\" cy=\"-101\" rx=\"18\" ry=\"18\"/>\n<text text-anchor=\"middle\" x=\"181.7\" y=\"-97.3\" font-family=\"Times,serif\" font-size=\"14.00\">y</text>\n</g>\n<!-- s1&#45;&gt;y -->\n<g id=\"edge5\" class=\"edge\">\n<title>s1&#45;&gt;y</title>\n<path fill=\"none\" stroke=\"black\" d=\"M126.64,-122.36C135.14,-119 145.65,-114.85 155.13,-111.1\"/>\n<polygon fill=\"black\" stroke=\"black\" points=\"156.5,-114.33 164.51,-107.4 153.93,-107.82 156.5,-114.33\"/>\n</g>\n<!-- s2&#45;&gt;y -->\n<g id=\"edge6\" class=\"edge\">\n<title>s2&#45;&gt;y</title>\n<path fill=\"none\" stroke=\"black\" d=\"M126.64,-79.64C135.14,-83 145.65,-87.15 155.13,-90.9\"/>\n<polygon fill=\"black\" stroke=\"black\" points=\"153.93,-94.18 164.51,-94.6 156.5,-87.67 153.93,-94.18\"/>\n</g>\n<!-- 第2層 -->\n<g id=\"node7\" class=\"node\">\n<title>第2層</title>\n<text text-anchor=\"middle\" x=\"27\" y=\"-235.3\" font-family=\"Times,serif\" font-size=\"14.00\">第2層</text>\n</g>\n</g>\n</svg>\n",
      "text/plain": [
       "<graphviz.graphs.Digraph at 0x7f5102edd460>"
      ]
     },
     "execution_count": 95,
     "metadata": {},
     "output_type": "execute_result"
    }
   ],
   "source": [
    "from graphviz import Digraph\n",
    "\n",
    "dg = Digraph(format='png')\n",
    "dg.attr('node', shape='circle')\n",
    "dg.attr('graph', rankdir='LR')\n",
    "\n",
    "with dg.subgraph(name=\"0\") as sg:\n",
    "  sg.node('第0層', shape='none')\n",
    "  sg.node('x1')\n",
    "  sg.node('x2')\n",
    "#  sg.edge('第0層', 'x1')\n",
    "\n",
    "with dg.subgraph(name=\"1\") as sg:\n",
    "  sg.node('第1層', shape='none')\n",
    "  sg.node('s1')\n",
    "  sg.node('s2')\n",
    "\n",
    "with dg.subgraph(name=\"2\") as sg:\n",
    "  sg.node('第2層', shape='none')\n",
    "  sg.node('y')\n",
    "\n",
    "dg.edge('x2', 's2')\n",
    "dg.edge('x2', 's1')\n",
    "dg.edge('x1', 's2')\n",
    "dg.edge('x1', 's1')\n",
    "dg.edge('s1', 'y')\n",
    "dg.edge('s2', 'y')\n",
    "\n",
    "dg"
   ]
  },
  {
   "cell_type": "code",
   "execution_count": null,
   "metadata": {},
   "outputs": [],
   "source": []
  }
 ],
 "metadata": {
  "kernelspec": {
   "display_name": "Python 3",
   "language": "python",
   "name": "python3"
  },
  "language_info": {
   "codemirror_mode": {
    "name": "ipython",
    "version": 3
   },
   "file_extension": ".py",
   "mimetype": "text/x-python",
   "name": "python",
   "nbconvert_exporter": "python",
   "pygments_lexer": "ipython3",
   "version": "3.8.8"
  }
 },
 "nbformat": 4,
 "nbformat_minor": 2
}
