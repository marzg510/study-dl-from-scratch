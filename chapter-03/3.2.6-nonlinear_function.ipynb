{
 "cells": [
  {
   "cell_type": "markdown",
   "metadata": {},
   "source": [
    "# 3.2.6 非線形関数(Nonlinear function)"
   ]
  },
  {
   "cell_type": "markdown",
   "metadata": {},
   "source": [
    "## 線形関数\n",
    "\n",
    "出力が入力の定数倍になるような関数\n",
    "\n",
    "$$\n",
    "h(x) = cx\n",
    "$$"
   ]
  },
  {
   "cell_type": "markdown",
   "metadata": {},
   "source": [
    "## 非線形関数\n",
    "線形関数にあらず。\n",
    "単純な一本の直線ではない関数。"
   ]
  },
  {
   "cell_type": "markdown",
   "metadata": {},
   "source": [
    "## ニューラルネットワークでは、活性化関数に非線形関数を用いる必要がある。\n",
    "- 活性化関数に線形関数を用いてはならない。\n",
    "- 線形関数を用いると、ニューラルネットワークで層を深くすることの意味がなくなってしまうから。\n",
    "- 線形関数の問題点は、どんなに層を深くしても、それと同じことを行う「隠れ層のないネットワーク」が必ず存在する、という事実に起因する\n"
   ]
  },
  {
   "cell_type": "markdown",
   "metadata": {},
   "source": [
    "## 具体的に(やや直感的に)理解する\n",
    "線形関数である\n",
    "$$ \n",
    "h(x)=cx \n",
    "$$\n",
    "を活性化関数として、\n",
    "$$\n",
    "y(x)=h(h(h(x)))\n",
    "$$\n",
    "を行う３層のネットワークに対応させて考える。\n",
    "\n",
    "この計算は\n",
    "$$\n",
    "y(x) = c \\times c \\times c \\times x\n",
    "$$\n",
    "を行うが、同じことは\n",
    "$$\n",
    "y(x)=ax(ただし、a=c^3)\n",
    "$$\n",
    "でも実現可能で、すなわち隠れ層のないネットワークで表現できる\n",
    "\n",
    "=＞つまり、意味がない。"
   ]
  },
  {
   "cell_type": "code",
   "execution_count": null,
   "metadata": {
    "collapsed": true
   },
   "outputs": [],
   "source": [
    "\n",
    "\n"
   ]
  }
 ],
 "metadata": {
  "kernelspec": {
   "display_name": "Python 3",
   "language": "python",
   "name": "python3"
  },
  "language_info": {
   "codemirror_mode": {
    "name": "ipython",
    "version": 3
   },
   "file_extension": ".py",
   "mimetype": "text/x-python",
   "name": "python",
   "nbconvert_exporter": "python",
   "pygments_lexer": "ipython3",
   "version": "3.6.1"
  }
 },
 "nbformat": 4,
 "nbformat_minor": 2
}
